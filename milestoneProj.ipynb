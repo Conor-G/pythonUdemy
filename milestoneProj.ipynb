{
 "cells": [
  {
   "cell_type": "code",
   "execution_count": 7,
   "metadata": {},
   "outputs": [],
   "source": [
    "#board printer function\n",
    "def board_printer(board):\n",
    "    print(board[1]+'|'+board[2]+'|'+board[3])\n",
    "    print('-|-|-')\n",
    "    print(board[4]+'|'+board[5]+'|'+board[6])\n",
    "    print('-|-|-')\n",
    "    print(board[7]+'|'+board[8]+'|'+board[9])"
   ]
  },
  {
   "cell_type": "code",
   "execution_count": 40,
   "metadata": {},
   "outputs": [
    {
     "name": "stdout",
     "output_type": "stream",
     "text": [
      "1|2|3\n",
      "-|-|-\n",
      "4|5|6\n",
      "-|-|-\n",
      "7|8|9\n"
     ]
    }
   ],
   "source": [
    "testBoard = ['#','1','2','3','4','5','6','7','8','9']\n",
    "board_printer(testBoard)"
   ]
  },
  {
   "cell_type": "code",
   "execution_count": 12,
   "metadata": {},
   "outputs": [
    {
     "name": "stdout",
     "output_type": "stream",
     "text": [
      "Choose X or O: X\n",
      "Player 1, you have selected X\n",
      "Player 2, you are playing as O\n"
     ]
    }
   ],
   "source": [
    "#user selection of X or O\n",
    "def user_select():\n",
    "    first = ''\n",
    "    while first != 'X' and first != 'O':\n",
    "        first = input('Choose X or O: ')\n",
    "        \n",
    "    player1 = first\n",
    "    if player1 == 'X':\n",
    "        player2 = 'O'\n",
    "    else:\n",
    "        player2 = 'X'\n",
    "    return(player1,player2)\n",
    "player1Marker, player2Marker = user_select()\n",
    "print(f'Player 1, you have selected {player1Marker}')\n",
    "print(f'Player 2, you are playing as {player2Marker}')"
   ]
  },
  {
   "cell_type": "code",
   "execution_count": 5,
   "metadata": {},
   "outputs": [],
   "source": [
    "# create a function to take in board list and create a 'mark' at a location in that list\n",
    "#board is our list that we use to print the board\n",
    "#marker is what we will be placing at the position of the user's move 'X' or 'O'\n",
    "def place_marker(board, marker, position):\n",
    "    board[position] = marker"
   ]
  },
  {
   "cell_type": "code",
   "execution_count": 10,
   "metadata": {},
   "outputs": [],
   "source": [
    "place_marker(testBoard,'X',2)"
   ]
  },
  {
   "cell_type": "code",
   "execution_count": 11,
   "metadata": {},
   "outputs": [
    {
     "name": "stdout",
     "output_type": "stream",
     "text": [
      " |X| \n",
      "-|-|-\n",
      " | | \n",
      "-|-|-\n",
      " | | \n"
     ]
    }
   ],
   "source": [
    "board_printer(testBoard)"
   ]
  },
  {
   "cell_type": "code",
   "execution_count": 27,
   "metadata": {},
   "outputs": [],
   "source": [
    "#create a win checker\n",
    "def win_checker():\n",
    "    return ((board[1] == marker and board[2] == marker and board[3] == marker) or \n",
    "    (board[4] == marker and board[5] == marker and board[6] == marker) or \n",
    "    (board[7] == marker and board[8] == marker and board[9] == marker) or \n",
    "    (board[1] == marker and board[5] == marker and board[9] == marker) or \n",
    "    (board[3] == marker and board[5] == marker and board[7] == marker) or  \n",
    "    (board[1] == marker and board[4] == marker and board[7] == marker) or \n",
    "    (board[2] == marker and board[5] == marker and board[8] == marker) or \n",
    "    (board[3] == marler and board[6] == marker and board[9] == marker))\n"
   ]
  },
  {
   "cell_type": "code",
   "execution_count": 28,
   "metadata": {},
   "outputs": [],
   "source": [
    "#function for picking which player goes first\n",
    "import random\n",
    "def first_move():\n",
    "    if random.randint(0,1) == 0:\n",
    "        return 'Player 1'\n",
    "    else:\n",
    "        return 'Player 2'"
   ]
  },
  {
   "cell_type": "code",
   "execution_count": 32,
   "metadata": {},
   "outputs": [
    {
     "data": {
      "text/plain": [
       "'Player 1'"
      ]
     },
     "execution_count": 32,
     "metadata": {},
     "output_type": "execute_result"
    }
   ],
   "source": [
    "first_move()"
   ]
  },
  {
   "cell_type": "code",
   "execution_count": 33,
   "metadata": {},
   "outputs": [],
   "source": [
    "#function to check if a board space is available \n",
    "def space_check(board, position):\n",
    "    return board[position] == ' '"
   ]
  },
  {
   "cell_type": "code",
   "execution_count": 37,
   "metadata": {},
   "outputs": [
    {
     "data": {
      "text/plain": [
       "True"
      ]
     },
     "execution_count": 37,
     "metadata": {},
     "output_type": "execute_result"
    }
   ],
   "source": [
    "space_check(testBoard,3)"
   ]
  },
  {
   "cell_type": "code",
   "execution_count": 38,
   "metadata": {},
   "outputs": [],
   "source": [
    "#function to determine if the list (board) is full \n",
    "def board_full_check(board):\n",
    "    for i in range(1,10):\n",
    "        if space_check(board, i):\n",
    "            return False\n",
    "    return True"
   ]
  },
  {
   "cell_type": "code",
   "execution_count": 41,
   "metadata": {},
   "outputs": [
    {
     "data": {
      "text/plain": [
       "True"
      ]
     },
     "execution_count": 41,
     "metadata": {},
     "output_type": "execute_result"
    }
   ],
   "source": [
    "board_full_check(testBoard)"
   ]
  },
  {
   "cell_type": "code",
   "execution_count": null,
   "metadata": {},
   "outputs": [],
   "source": [
    "#function that takes in user input for position and checks if that space is free, if so, save the position for later "
   ]
  }
 ],
 "metadata": {
  "kernelspec": {
   "display_name": "Python 3",
   "language": "python",
   "name": "python3"
  },
  "language_info": {
   "codemirror_mode": {
    "name": "ipython",
    "version": 3
   },
   "file_extension": ".py",
   "mimetype": "text/x-python",
   "name": "python",
   "nbconvert_exporter": "python",
   "pygments_lexer": "ipython3",
   "version": "3.6.4"
  }
 },
 "nbformat": 4,
 "nbformat_minor": 2
}
